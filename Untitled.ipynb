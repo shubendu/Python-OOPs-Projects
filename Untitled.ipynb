{
 "cells": [
  {
   "cell_type": "code",
   "execution_count": 2,
   "id": "4d55c9fe",
   "metadata": {},
   "outputs": [
    {
     "name": "stdout",
     "output_type": "stream",
     "text": [
      "Requirement already satisfied: selectorlib in c:\\users\\snake\\appdata\\local\\programs\\python\\python37\\lib\\site-packages (0.16.0)\n",
      "Requirement already satisfied: pyyaml>=3.12 in c:\\users\\snake\\appdata\\local\\programs\\python\\python37\\lib\\site-packages (from selectorlib) (6.0)\n"
     ]
    },
    {
     "name": "stderr",
     "output_type": "stream",
     "text": [
      "WARNING: You are using pip version 19.2.3, however version 22.0.3 is available.\n",
      "You should consider upgrading via the 'python -m pip install --upgrade pip' command.\n"
     ]
    },
    {
     "name": "stdout",
     "output_type": "stream",
     "text": [
      "Requirement already satisfied: parsel>=1.5.1 in c:\\users\\snake\\appdata\\local\\programs\\python\\python37\\lib\\site-packages (from selectorlib) (1.6.0)\n",
      "Requirement already satisfied: Click>=6.0 in c:\\users\\snake\\appdata\\local\\programs\\python\\python37\\lib\\site-packages (from selectorlib) (8.0.4)\n",
      "Requirement already satisfied: cssselect>=0.9 in c:\\users\\snake\\appdata\\local\\programs\\python\\python37\\lib\\site-packages (from parsel>=1.5.1->selectorlib) (1.1.0)\n",
      "Requirement already satisfied: w3lib>=1.19.0 in c:\\users\\snake\\appdata\\local\\programs\\python\\python37\\lib\\site-packages (from parsel>=1.5.1->selectorlib) (1.22.0)\n",
      "Requirement already satisfied: six>=1.6.0 in c:\\users\\snake\\appdata\\local\\programs\\python\\python37\\lib\\site-packages (from parsel>=1.5.1->selectorlib) (1.16.0)\n",
      "Requirement already satisfied: lxml in c:\\users\\snake\\appdata\\local\\programs\\python\\python37\\lib\\site-packages (from parsel>=1.5.1->selectorlib) (4.8.0)\n",
      "Requirement already satisfied: colorama; platform_system == \"Windows\" in c:\\users\\snake\\appdata\\local\\programs\\python\\python37\\lib\\site-packages (from Click>=6.0->selectorlib) (0.4.4)\n",
      "Requirement already satisfied: importlib-metadata; python_version < \"3.8\" in c:\\users\\snake\\appdata\\local\\programs\\python\\python37\\lib\\site-packages (from Click>=6.0->selectorlib) (4.11.1)\n",
      "Requirement already satisfied: typing-extensions>=3.6.4; python_version < \"3.8\" in c:\\users\\snake\\appdata\\local\\programs\\python\\python37\\lib\\site-packages (from importlib-metadata; python_version < \"3.8\"->Click>=6.0->selectorlib) (4.1.1)\n",
      "Requirement already satisfied: zipp>=0.5 in c:\\users\\snake\\appdata\\local\\programs\\python\\python37\\lib\\site-packages (from importlib-metadata; python_version < \"3.8\"->Click>=6.0->selectorlib) (3.7.0)\n"
     ]
    }
   ],
   "source": [
    "!pip install selectorlib"
   ]
  },
  {
   "cell_type": "code",
   "execution_count": 1,
   "id": "7dcd4bff",
   "metadata": {},
   "outputs": [
    {
     "ename": "ModuleNotFoundError",
     "evalue": "No module named 'selectorlib'",
     "output_type": "error",
     "traceback": [
      "\u001b[1;31m---------------------------------------------------------------------------\u001b[0m",
      "\u001b[1;31mModuleNotFoundError\u001b[0m                       Traceback (most recent call last)",
      "\u001b[1;32m~\\AppData\\Local\\Temp/ipykernel_1636/4062645835.py\u001b[0m in \u001b[0;36m<module>\u001b[1;34m\u001b[0m\n\u001b[0;32m      1\u001b[0m \u001b[1;32mimport\u001b[0m \u001b[0mrequests\u001b[0m\u001b[1;33m\u001b[0m\u001b[1;33m\u001b[0m\u001b[0m\n\u001b[1;32m----> 2\u001b[1;33m \u001b[1;32mfrom\u001b[0m \u001b[0mselectorlib\u001b[0m \u001b[1;32mimport\u001b[0m \u001b[0mExtractor\u001b[0m\u001b[1;33m\u001b[0m\u001b[1;33m\u001b[0m\u001b[0m\n\u001b[0m\u001b[0;32m      3\u001b[0m \u001b[1;33m\u001b[0m\u001b[0m\n\u001b[0;32m      4\u001b[0m \u001b[1;32mclass\u001b[0m \u001b[0mTemperature\u001b[0m\u001b[1;33m:\u001b[0m\u001b[1;33m\u001b[0m\u001b[1;33m\u001b[0m\u001b[0m\n\u001b[0;32m      5\u001b[0m     \"\"\"A scrapper that uses an yml file to read the xpath of a value it needs to extract from the timeanddata.com/weather/url\n",
      "\u001b[1;31mModuleNotFoundError\u001b[0m: No module named 'selectorlib'"
     ]
    }
   ],
   "source": [
    "import requests\n",
    "from selectorlib import Extractor\n",
    "\n",
    "class Temperature:\n",
    "    \"\"\"A scrapper that uses an yml file to read the xpath of a value it needs to extract from the timeanddata.com/weather/url\n",
    "    \"\"\"\n",
    "\n",
    "    headers = {\n",
    "    'pragma': 'no-cache',\n",
    "    'cache-control': 'no-cache',\n",
    "    'dnt': '1',\n",
    "    'upgrade-insecure-requests': '1',\n",
    "    'user-agent': 'Mozilla/5.0 (X11; CrOS x86_64 8172.45.0) AppleWebKit/537.36 (KHTML, like Gecko) Chrome/51.0.2704.64 Safari/537.36',\n",
    "    'accept': 'text/html,application/xhtml+xml,application/xml;q=0.9,image/webp,image/apng,*/*;q=0.8,application/signed-exchange;v=b3;q=0.9',\n",
    "    'accept-language': 'en-GB,en-US;q=0.9,en;q=0.8',\n",
    "    }\n",
    "\n",
    "    base_url = 'https://www.timeanddate.com/weather'\n",
    "    yml_path = 'App-6-Project-Calorie-Webapp/temperature.yaml'\n",
    "\n",
    "    def __init__(self, country, city):\n",
    "        self.country = country.replace(\" \",\"-\")\n",
    "        self.city = city.replace(\" \",\"-\")\n",
    "\n",
    "    def _build_url(self):\n",
    "        \"\"\"Builds the url string adding country and city\"\"\"\n",
    "        url = self.base_url +self.country + \"/\" + self.city\n",
    "        return url\n",
    "\n",
    "    def _scrape(self):\n",
    "        \"\"\"Extract a value as instructed by the yml file and returns a dictionary\"\"\"\n",
    "        url = self._build_url()\n",
    "        extractor = Extractor.from_yaml_files(self.headers)\n",
    "        r = requests.get(url, headers=self.headers)\n",
    "        full_content = r.text\n",
    "        raw_content = extractor.extract(full_content)\n",
    "        return raw_content\n",
    "\n",
    "    \n",
    "    def get(self):\n",
    "        \"\"\"Cleans the output of _scrape\"\"\"\n",
    "        scraped_content = self._scrape\n",
    "        return float(scraped_content['temp'].replace(\"°C\", \"\").strip())\n",
    "\n",
    "        return result\n",
    "\n"
   ]
  },
  {
   "cell_type": "code",
   "execution_count": null,
   "id": "4cba0b1d",
   "metadata": {},
   "outputs": [],
   "source": []
  },
  {
   "cell_type": "code",
   "execution_count": null,
   "id": "6b5685d0",
   "metadata": {},
   "outputs": [],
   "source": []
  }
 ],
 "metadata": {
  "kernelspec": {
   "display_name": "Python 3 (ipykernel)",
   "language": "python",
   "name": "python3"
  },
  "language_info": {
   "codemirror_mode": {
    "name": "ipython",
    "version": 3
   },
   "file_extension": ".py",
   "mimetype": "text/x-python",
   "name": "python",
   "nbconvert_exporter": "python",
   "pygments_lexer": "ipython3",
   "version": "3.9.1"
  }
 },
 "nbformat": 4,
 "nbformat_minor": 5
}
